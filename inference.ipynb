{
 "cells": [
  {
   "cell_type": "markdown",
   "id": "1ff90498-a13e-438b-8fc0-5970ab1723c5",
   "metadata": {},
   "source": [
    "\n",
    "<center>\n",
    "<h1> AWS SageMaker </h1>\n",
    "    <h2>MLOps using AWS SageMaker </h2>\n",
    "    <h3>March 23, 2023</h3>\n",
    "<hr>\n",
    "<h1>Real-time inference on an XGBoost Endpoint</h1>\n",
    "<hr>\n",
    " </center>"
   ]
  },
  {
   "cell_type": "code",
   "execution_count": 3,
   "id": "bade797b-8e8f-4f13-b074-be8535092791",
   "metadata": {
    "tags": []
   },
   "outputs": [],
   "source": [
    "from typing import List\n",
    "\n",
    "import boto3\n",
    "import io\n",
    "import numpy as np\n",
    "import pandas as pd\n",
    "import sagemaker\n",
    "\n",
    "def convert_df_to_csv_object(df: pd.DataFrame) -> str:\n",
    "    \"\"\"Converts the dataframe object `df` to a payload that can be passed to the model endpoint.\n",
    "    \n",
    "    Args:\n",
    "        df: Dataframe that is converted to a csv-file for the SageMaker model's endpoint.\n",
    "    \n",
    "    Returns:\n",
    "        payload_as_csv: csv-file as payload.\n",
    "    \"\"\"\n",
    "    \n",
    "    assert isinstance(df, pd.DataFrame)\n",
    "    \n",
    "    csv_file = io.StringIO()\n",
    "    # by default sagemaker expects comma separated\n",
    "    df.to_csv(csv_file, sep=\",\", header=False, index=False)\n",
    "    \n",
    "    payload_as_csv = csv_file.getvalue()\n",
    "    \n",
    "    return payload_as_csv\n",
    "\n",
    "def batch_prediction(payload: str, endpoint: sagemaker.predictor.Predictor) -> List[float]:\n",
    "    \"\"\"Function to pass a payload to the model endpoint and return a prediction.\n",
    "    \n",
    "    Args:\n",
    "        payload: SageMaker model friendly payload (feature vector).\n",
    "        endpoint: SageMaker model endpoint.\n",
    "    \n",
    "    Returns:\n",
    "        response: List of predictions from the model.\n",
    "    \"\"\"\n",
    "    \n",
    "    # invoke the endpoint to get a prediction\n",
    "    response = endpoint.predict(payload, initial_args={'ContentType': \"text/csv\"})\n",
    "    \n",
    "    # process predictions\n",
    "    response = response.decode(\"utf-8\")\n",
    "    \n",
    "    response = [float(i) for i in response.split(',')]\n",
    "    \n",
    "    # convert to array\n",
    "    response = np.asarray(response)\n",
    "      \n",
    "    return response"
   ]
  },
  {
   "cell_type": "markdown",
   "id": "7afb8d31-13fc-44d7-83a8-08bddd3d7264",
   "metadata": {},
   "source": [
    "Load the (preprocessed) data from S3."
   ]
  },
  {
   "cell_type": "code",
   "execution_count": 34,
   "id": "d27d0ddf-a1bf-4e52-87f4-8351ce1e534e",
   "metadata": {
    "tags": []
   },
   "outputs": [],
   "source": [
    "df = (\n",
    "    pd\n",
    "    .read_csv('s3://sagemaker-project-p-1bbjaifjvgou/heiko-demo-p-1bbjaifjvgou-SKLearn-Prepr-2023-03-14-14-34-04-876/output/test/test_w_header.csv')\n",
    "    .loc[35:38, :]\n",
    "    .reset_index(drop=True)\n",
    ")"
   ]
  },
  {
   "cell_type": "code",
   "execution_count": 35,
   "id": "3b5b5f2f-f44d-4f4d-a139-5889a8daf9da",
   "metadata": {
    "tags": []
   },
   "outputs": [
    {
     "data": {
      "text/html": [
       "<div>\n",
       "<style scoped>\n",
       "    .dataframe tbody tr th:only-of-type {\n",
       "        vertical-align: middle;\n",
       "    }\n",
       "\n",
       "    .dataframe tbody tr th {\n",
       "        vertical-align: top;\n",
       "    }\n",
       "\n",
       "    .dataframe thead th {\n",
       "        text-align: right;\n",
       "    }\n",
       "</style>\n",
       "<table border=\"1\" class=\"dataframe\">\n",
       "  <thead>\n",
       "    <tr style=\"text-align: right;\">\n",
       "      <th></th>\n",
       "      <th>subtraction</th>\n",
       "      <th>wind_speed</th>\n",
       "      <th>power</th>\n",
       "      <th>nacelle_direction</th>\n",
       "      <th>wind_direction</th>\n",
       "      <th>rotor_speed</th>\n",
       "      <th>generator_speed</th>\n",
       "      <th>temp_environment</th>\n",
       "      <th>temp_hydraulic_oil</th>\n",
       "      <th>temp_gear_bearing</th>\n",
       "      <th>cosphi</th>\n",
       "      <th>blade_angle_avg</th>\n",
       "      <th>hydraulic_pressure</th>\n",
       "    </tr>\n",
       "  </thead>\n",
       "  <tbody>\n",
       "    <tr>\n",
       "      <th>0</th>\n",
       "      <td>0.0</td>\n",
       "      <td>0.996684</td>\n",
       "      <td>0.996058</td>\n",
       "      <td>222.056830</td>\n",
       "      <td>223.309394</td>\n",
       "      <td>0.995549</td>\n",
       "      <td>0.831045</td>\n",
       "      <td>14.154587</td>\n",
       "      <td>27.061120</td>\n",
       "      <td>55.321271</td>\n",
       "      <td>0.997626</td>\n",
       "      <td>3.973740</td>\n",
       "      <td>194.388442</td>\n",
       "    </tr>\n",
       "    <tr>\n",
       "      <th>1</th>\n",
       "      <td>0.0</td>\n",
       "      <td>0.960518</td>\n",
       "      <td>0.989188</td>\n",
       "      <td>226.941148</td>\n",
       "      <td>220.911624</td>\n",
       "      <td>0.987970</td>\n",
       "      <td>0.841187</td>\n",
       "      <td>14.156931</td>\n",
       "      <td>29.124152</td>\n",
       "      <td>55.913211</td>\n",
       "      <td>0.997267</td>\n",
       "      <td>3.072455</td>\n",
       "      <td>196.388316</td>\n",
       "    </tr>\n",
       "    <tr>\n",
       "      <th>2</th>\n",
       "      <td>1.0</td>\n",
       "      <td>1.051278</td>\n",
       "      <td>0.987230</td>\n",
       "      <td>226.372211</td>\n",
       "      <td>227.952655</td>\n",
       "      <td>1.004519</td>\n",
       "      <td>0.827129</td>\n",
       "      <td>13.743097</td>\n",
       "      <td>31.045270</td>\n",
       "      <td>57.777315</td>\n",
       "      <td>0.985665</td>\n",
       "      <td>6.121129</td>\n",
       "      <td>195.917418</td>\n",
       "    </tr>\n",
       "    <tr>\n",
       "      <th>3</th>\n",
       "      <td>1.0</td>\n",
       "      <td>1.126461</td>\n",
       "      <td>0.987758</td>\n",
       "      <td>222.477222</td>\n",
       "      <td>220.842641</td>\n",
       "      <td>0.988797</td>\n",
       "      <td>0.845280</td>\n",
       "      <td>14.272125</td>\n",
       "      <td>32.690493</td>\n",
       "      <td>59.139193</td>\n",
       "      <td>0.993457</td>\n",
       "      <td>7.432964</td>\n",
       "      <td>196.031172</td>\n",
       "    </tr>\n",
       "  </tbody>\n",
       "</table>\n",
       "</div>"
      ],
      "text/plain": [
       "   subtraction  wind_speed     power  nacelle_direction  wind_direction  \\\n",
       "0          0.0    0.996684  0.996058         222.056830      223.309394   \n",
       "1          0.0    0.960518  0.989188         226.941148      220.911624   \n",
       "2          1.0    1.051278  0.987230         226.372211      227.952655   \n",
       "3          1.0    1.126461  0.987758         222.477222      220.842641   \n",
       "\n",
       "   rotor_speed  generator_speed  temp_environment  temp_hydraulic_oil  \\\n",
       "0     0.995549         0.831045         14.154587           27.061120   \n",
       "1     0.987970         0.841187         14.156931           29.124152   \n",
       "2     1.004519         0.827129         13.743097           31.045270   \n",
       "3     0.988797         0.845280         14.272125           32.690493   \n",
       "\n",
       "   temp_gear_bearing    cosphi  blade_angle_avg  hydraulic_pressure  \n",
       "0          55.321271  0.997626         3.973740          194.388442  \n",
       "1          55.913211  0.997267         3.072455          196.388316  \n",
       "2          57.777315  0.985665         6.121129          195.917418  \n",
       "3          59.139193  0.993457         7.432964          196.031172  "
      ]
     },
     "execution_count": 35,
     "metadata": {},
     "output_type": "execute_result"
    }
   ],
   "source": [
    "df"
   ]
  },
  {
   "cell_type": "markdown",
   "id": "54a480d5-7ef1-4d9d-a1ca-6009a67531d1",
   "metadata": {},
   "source": [
    "Remove the target - `subtraction` - from the dataset."
   ]
  },
  {
   "cell_type": "code",
   "execution_count": 69,
   "id": "7f443cf7-c9a5-4702-b48d-d737eb5a3d8f",
   "metadata": {
    "tags": []
   },
   "outputs": [
    {
     "data": {
      "text/html": [
       "<div>\n",
       "<style scoped>\n",
       "    .dataframe tbody tr th:only-of-type {\n",
       "        vertical-align: middle;\n",
       "    }\n",
       "\n",
       "    .dataframe tbody tr th {\n",
       "        vertical-align: top;\n",
       "    }\n",
       "\n",
       "    .dataframe thead th {\n",
       "        text-align: right;\n",
       "    }\n",
       "</style>\n",
       "<table border=\"1\" class=\"dataframe\">\n",
       "  <thead>\n",
       "    <tr style=\"text-align: right;\">\n",
       "      <th></th>\n",
       "      <th>wind_speed</th>\n",
       "      <th>power</th>\n",
       "      <th>nacelle_direction</th>\n",
       "      <th>wind_direction</th>\n",
       "      <th>rotor_speed</th>\n",
       "      <th>generator_speed</th>\n",
       "      <th>temp_environment</th>\n",
       "      <th>temp_hydraulic_oil</th>\n",
       "      <th>temp_gear_bearing</th>\n",
       "      <th>cosphi</th>\n",
       "      <th>blade_angle_avg</th>\n",
       "      <th>hydraulic_pressure</th>\n",
       "    </tr>\n",
       "  </thead>\n",
       "  <tbody>\n",
       "    <tr>\n",
       "      <th>0</th>\n",
       "      <td>0.996684</td>\n",
       "      <td>0.996058</td>\n",
       "      <td>222.056830</td>\n",
       "      <td>223.309394</td>\n",
       "      <td>0.995549</td>\n",
       "      <td>0.831045</td>\n",
       "      <td>14.154587</td>\n",
       "      <td>27.061120</td>\n",
       "      <td>55.321271</td>\n",
       "      <td>0.997626</td>\n",
       "      <td>3.973740</td>\n",
       "      <td>194.388442</td>\n",
       "    </tr>\n",
       "    <tr>\n",
       "      <th>1</th>\n",
       "      <td>0.960518</td>\n",
       "      <td>0.989188</td>\n",
       "      <td>226.941148</td>\n",
       "      <td>220.911624</td>\n",
       "      <td>0.987970</td>\n",
       "      <td>0.841187</td>\n",
       "      <td>14.156931</td>\n",
       "      <td>29.124152</td>\n",
       "      <td>55.913211</td>\n",
       "      <td>0.997267</td>\n",
       "      <td>3.072455</td>\n",
       "      <td>196.388316</td>\n",
       "    </tr>\n",
       "    <tr>\n",
       "      <th>2</th>\n",
       "      <td>1.051278</td>\n",
       "      <td>0.987230</td>\n",
       "      <td>226.372211</td>\n",
       "      <td>227.952655</td>\n",
       "      <td>1.004519</td>\n",
       "      <td>0.827129</td>\n",
       "      <td>13.743097</td>\n",
       "      <td>31.045270</td>\n",
       "      <td>57.777315</td>\n",
       "      <td>0.985665</td>\n",
       "      <td>6.121129</td>\n",
       "      <td>195.917418</td>\n",
       "    </tr>\n",
       "    <tr>\n",
       "      <th>3</th>\n",
       "      <td>1.126461</td>\n",
       "      <td>0.987758</td>\n",
       "      <td>222.477222</td>\n",
       "      <td>220.842641</td>\n",
       "      <td>0.988797</td>\n",
       "      <td>0.845280</td>\n",
       "      <td>14.272125</td>\n",
       "      <td>32.690493</td>\n",
       "      <td>59.139193</td>\n",
       "      <td>0.993457</td>\n",
       "      <td>7.432964</td>\n",
       "      <td>196.031172</td>\n",
       "    </tr>\n",
       "  </tbody>\n",
       "</table>\n",
       "</div>"
      ],
      "text/plain": [
       "   wind_speed     power  nacelle_direction  wind_direction  rotor_speed  \\\n",
       "0    0.996684  0.996058         222.056830      223.309394     0.995549   \n",
       "1    0.960518  0.989188         226.941148      220.911624     0.987970   \n",
       "2    1.051278  0.987230         226.372211      227.952655     1.004519   \n",
       "3    1.126461  0.987758         222.477222      220.842641     0.988797   \n",
       "\n",
       "   generator_speed  temp_environment  temp_hydraulic_oil  temp_gear_bearing  \\\n",
       "0         0.831045         14.154587           27.061120          55.321271   \n",
       "1         0.841187         14.156931           29.124152          55.913211   \n",
       "2         0.827129         13.743097           31.045270          57.777315   \n",
       "3         0.845280         14.272125           32.690493          59.139193   \n",
       "\n",
       "     cosphi  blade_angle_avg  hydraulic_pressure  \n",
       "0  0.997626         3.973740          194.388442  \n",
       "1  0.997267         3.072455          196.388316  \n",
       "2  0.985665         6.121129          195.917418  \n",
       "3  0.993457         7.432964          196.031172  "
      ]
     },
     "execution_count": 69,
     "metadata": {},
     "output_type": "execute_result"
    }
   ],
   "source": [
    "payload = df.iloc[:, 1:]\n",
    "payload"
   ]
  },
  {
   "cell_type": "markdown",
   "id": "3298730a-80be-47a4-a27b-ed75091cfad8",
   "metadata": {},
   "source": [
    "Call the endpoint. You can try with your own endpoint if you wish."
   ]
  },
  {
   "cell_type": "code",
   "execution_count": 72,
   "id": "5e4816a2-af05-4d1b-a728-8c5665cbb650",
   "metadata": {},
   "outputs": [
    {
     "data": {
      "text/plain": [
       "array([0.01085647, 0.00238047, 0.8168515 , 0.79828894])"
      ]
     },
     "execution_count": 72,
     "metadata": {},
     "output_type": "execute_result"
    }
   ],
   "source": [
    "endpoint_name = 'heiko-demo-staging'\n",
    "region = 'eu-west-3'\n",
    "\n",
    "predictor = sagemaker.predictor.Predictor(\n",
    "    region=region,\n",
    "    endpoint_name=endpoint_name,\n",
    "    sagemaker_session=sagemaker.Session(),\n",
    ")\n",
    "\n",
    "batch_prediction(payload=df_converted, endpoint=predictor)"
   ]
  }
 ],
 "metadata": {
  "availableInstances": [
   {
    "_defaultOrder": 0,
    "_isFastLaunch": true,
    "category": "General purpose",
    "gpuNum": 0,
    "memoryGiB": 4,
    "name": "ml.t3.medium",
    "vcpuNum": 2
   },
   {
    "_defaultOrder": 1,
    "_isFastLaunch": false,
    "category": "General purpose",
    "gpuNum": 0,
    "memoryGiB": 8,
    "name": "ml.t3.large",
    "vcpuNum": 2
   },
   {
    "_defaultOrder": 2,
    "_isFastLaunch": false,
    "category": "General purpose",
    "gpuNum": 0,
    "memoryGiB": 16,
    "name": "ml.t3.xlarge",
    "vcpuNum": 4
   },
   {
    "_defaultOrder": 3,
    "_isFastLaunch": false,
    "category": "General purpose",
    "gpuNum": 0,
    "memoryGiB": 32,
    "name": "ml.t3.2xlarge",
    "vcpuNum": 8
   },
   {
    "_defaultOrder": 4,
    "_isFastLaunch": true,
    "category": "General purpose",
    "gpuNum": 0,
    "memoryGiB": 8,
    "name": "ml.m5.large",
    "vcpuNum": 2
   },
   {
    "_defaultOrder": 5,
    "_isFastLaunch": false,
    "category": "General purpose",
    "gpuNum": 0,
    "memoryGiB": 16,
    "name": "ml.m5.xlarge",
    "vcpuNum": 4
   },
   {
    "_defaultOrder": 6,
    "_isFastLaunch": false,
    "category": "General purpose",
    "gpuNum": 0,
    "memoryGiB": 32,
    "name": "ml.m5.2xlarge",
    "vcpuNum": 8
   },
   {
    "_defaultOrder": 7,
    "_isFastLaunch": false,
    "category": "General purpose",
    "gpuNum": 0,
    "memoryGiB": 64,
    "name": "ml.m5.4xlarge",
    "vcpuNum": 16
   },
   {
    "_defaultOrder": 8,
    "_isFastLaunch": false,
    "category": "General purpose",
    "gpuNum": 0,
    "memoryGiB": 128,
    "name": "ml.m5.8xlarge",
    "vcpuNum": 32
   },
   {
    "_defaultOrder": 9,
    "_isFastLaunch": false,
    "category": "General purpose",
    "gpuNum": 0,
    "memoryGiB": 192,
    "name": "ml.m5.12xlarge",
    "vcpuNum": 48
   },
   {
    "_defaultOrder": 10,
    "_isFastLaunch": false,
    "category": "General purpose",
    "gpuNum": 0,
    "memoryGiB": 256,
    "name": "ml.m5.16xlarge",
    "vcpuNum": 64
   },
   {
    "_defaultOrder": 11,
    "_isFastLaunch": false,
    "category": "General purpose",
    "gpuNum": 0,
    "memoryGiB": 384,
    "name": "ml.m5.24xlarge",
    "vcpuNum": 96
   },
   {
    "_defaultOrder": 12,
    "_isFastLaunch": false,
    "category": "General purpose",
    "gpuNum": 0,
    "memoryGiB": 8,
    "name": "ml.m5d.large",
    "vcpuNum": 2
   },
   {
    "_defaultOrder": 13,
    "_isFastLaunch": false,
    "category": "General purpose",
    "gpuNum": 0,
    "memoryGiB": 16,
    "name": "ml.m5d.xlarge",
    "vcpuNum": 4
   },
   {
    "_defaultOrder": 14,
    "_isFastLaunch": false,
    "category": "General purpose",
    "gpuNum": 0,
    "memoryGiB": 32,
    "name": "ml.m5d.2xlarge",
    "vcpuNum": 8
   },
   {
    "_defaultOrder": 15,
    "_isFastLaunch": false,
    "category": "General purpose",
    "gpuNum": 0,
    "memoryGiB": 64,
    "name": "ml.m5d.4xlarge",
    "vcpuNum": 16
   },
   {
    "_defaultOrder": 16,
    "_isFastLaunch": false,
    "category": "General purpose",
    "gpuNum": 0,
    "memoryGiB": 128,
    "name": "ml.m5d.8xlarge",
    "vcpuNum": 32
   },
   {
    "_defaultOrder": 17,
    "_isFastLaunch": false,
    "category": "General purpose",
    "gpuNum": 0,
    "memoryGiB": 192,
    "name": "ml.m5d.12xlarge",
    "vcpuNum": 48
   },
   {
    "_defaultOrder": 18,
    "_isFastLaunch": false,
    "category": "General purpose",
    "gpuNum": 0,
    "memoryGiB": 256,
    "name": "ml.m5d.16xlarge",
    "vcpuNum": 64
   },
   {
    "_defaultOrder": 19,
    "_isFastLaunch": false,
    "category": "General purpose",
    "gpuNum": 0,
    "memoryGiB": 384,
    "name": "ml.m5d.24xlarge",
    "vcpuNum": 96
   },
   {
    "_defaultOrder": 20,
    "_isFastLaunch": true,
    "category": "Compute optimized",
    "gpuNum": 0,
    "memoryGiB": 4,
    "name": "ml.c5.large",
    "vcpuNum": 2
   },
   {
    "_defaultOrder": 21,
    "_isFastLaunch": false,
    "category": "Compute optimized",
    "gpuNum": 0,
    "memoryGiB": 8,
    "name": "ml.c5.xlarge",
    "vcpuNum": 4
   },
   {
    "_defaultOrder": 22,
    "_isFastLaunch": false,
    "category": "Compute optimized",
    "gpuNum": 0,
    "memoryGiB": 16,
    "name": "ml.c5.2xlarge",
    "vcpuNum": 8
   },
   {
    "_defaultOrder": 23,
    "_isFastLaunch": false,
    "category": "Compute optimized",
    "gpuNum": 0,
    "memoryGiB": 32,
    "name": "ml.c5.4xlarge",
    "vcpuNum": 16
   },
   {
    "_defaultOrder": 24,
    "_isFastLaunch": false,
    "category": "Compute optimized",
    "gpuNum": 0,
    "memoryGiB": 72,
    "name": "ml.c5.9xlarge",
    "vcpuNum": 36
   },
   {
    "_defaultOrder": 25,
    "_isFastLaunch": false,
    "category": "Compute optimized",
    "gpuNum": 0,
    "memoryGiB": 96,
    "name": "ml.c5.12xlarge",
    "vcpuNum": 48
   },
   {
    "_defaultOrder": 26,
    "_isFastLaunch": false,
    "category": "Compute optimized",
    "gpuNum": 0,
    "memoryGiB": 144,
    "name": "ml.c5.18xlarge",
    "vcpuNum": 72
   },
   {
    "_defaultOrder": 27,
    "_isFastLaunch": false,
    "category": "Compute optimized",
    "gpuNum": 0,
    "memoryGiB": 192,
    "name": "ml.c5.24xlarge",
    "vcpuNum": 96
   },
   {
    "_defaultOrder": 28,
    "_isFastLaunch": true,
    "category": "Accelerated computing",
    "gpuNum": 1,
    "memoryGiB": 16,
    "name": "ml.g4dn.xlarge",
    "vcpuNum": 4
   },
   {
    "_defaultOrder": 29,
    "_isFastLaunch": false,
    "category": "Accelerated computing",
    "gpuNum": 1,
    "memoryGiB": 32,
    "name": "ml.g4dn.2xlarge",
    "vcpuNum": 8
   },
   {
    "_defaultOrder": 30,
    "_isFastLaunch": false,
    "category": "Accelerated computing",
    "gpuNum": 1,
    "memoryGiB": 64,
    "name": "ml.g4dn.4xlarge",
    "vcpuNum": 16
   },
   {
    "_defaultOrder": 31,
    "_isFastLaunch": false,
    "category": "Accelerated computing",
    "gpuNum": 1,
    "memoryGiB": 128,
    "name": "ml.g4dn.8xlarge",
    "vcpuNum": 32
   },
   {
    "_defaultOrder": 32,
    "_isFastLaunch": false,
    "category": "Accelerated computing",
    "gpuNum": 4,
    "memoryGiB": 192,
    "name": "ml.g4dn.12xlarge",
    "vcpuNum": 48
   },
   {
    "_defaultOrder": 33,
    "_isFastLaunch": false,
    "category": "Accelerated computing",
    "gpuNum": 1,
    "memoryGiB": 256,
    "name": "ml.g4dn.16xlarge",
    "vcpuNum": 64
   },
   {
    "_defaultOrder": 34,
    "_isFastLaunch": false,
    "category": "Accelerated computing",
    "gpuNum": 1,
    "memoryGiB": 61,
    "name": "ml.p3.2xlarge",
    "vcpuNum": 8
   },
   {
    "_defaultOrder": 35,
    "_isFastLaunch": false,
    "category": "Accelerated computing",
    "gpuNum": 4,
    "memoryGiB": 244,
    "name": "ml.p3.8xlarge",
    "vcpuNum": 32
   },
   {
    "_defaultOrder": 36,
    "_isFastLaunch": false,
    "category": "Accelerated computing",
    "gpuNum": 8,
    "memoryGiB": 488,
    "name": "ml.p3.16xlarge",
    "vcpuNum": 64
   },
   {
    "_defaultOrder": 37,
    "_isFastLaunch": false,
    "category": "Accelerated computing",
    "gpuNum": 8,
    "memoryGiB": 768,
    "name": "ml.p3dn.24xlarge",
    "vcpuNum": 96
   },
   {
    "_defaultOrder": 38,
    "_isFastLaunch": false,
    "category": "Memory Optimized",
    "gpuNum": 0,
    "memoryGiB": 16,
    "name": "ml.r5.large",
    "vcpuNum": 2
   },
   {
    "_defaultOrder": 39,
    "_isFastLaunch": false,
    "category": "Memory Optimized",
    "gpuNum": 0,
    "memoryGiB": 32,
    "name": "ml.r5.xlarge",
    "vcpuNum": 4
   },
   {
    "_defaultOrder": 40,
    "_isFastLaunch": false,
    "category": "Memory Optimized",
    "gpuNum": 0,
    "memoryGiB": 64,
    "name": "ml.r5.2xlarge",
    "vcpuNum": 8
   },
   {
    "_defaultOrder": 41,
    "_isFastLaunch": false,
    "category": "Memory Optimized",
    "gpuNum": 0,
    "memoryGiB": 128,
    "name": "ml.r5.4xlarge",
    "vcpuNum": 16
   },
   {
    "_defaultOrder": 42,
    "_isFastLaunch": false,
    "category": "Memory Optimized",
    "gpuNum": 0,
    "memoryGiB": 256,
    "name": "ml.r5.8xlarge",
    "vcpuNum": 32
   },
   {
    "_defaultOrder": 43,
    "_isFastLaunch": false,
    "category": "Memory Optimized",
    "gpuNum": 0,
    "memoryGiB": 384,
    "name": "ml.r5.12xlarge",
    "vcpuNum": 48
   },
   {
    "_defaultOrder": 44,
    "_isFastLaunch": false,
    "category": "Memory Optimized",
    "gpuNum": 0,
    "memoryGiB": 512,
    "name": "ml.r5.16xlarge",
    "vcpuNum": 64
   },
   {
    "_defaultOrder": 45,
    "_isFastLaunch": false,
    "category": "Memory Optimized",
    "gpuNum": 0,
    "memoryGiB": 768,
    "name": "ml.r5.24xlarge",
    "vcpuNum": 96
   },
   {
    "_defaultOrder": 46,
    "_isFastLaunch": false,
    "category": "Accelerated computing",
    "gpuNum": 1,
    "memoryGiB": 16,
    "name": "ml.g5.xlarge",
    "vcpuNum": 4
   },
   {
    "_defaultOrder": 47,
    "_isFastLaunch": false,
    "category": "Accelerated computing",
    "gpuNum": 1,
    "memoryGiB": 32,
    "name": "ml.g5.2xlarge",
    "vcpuNum": 8
   },
   {
    "_defaultOrder": 48,
    "_isFastLaunch": false,
    "category": "Accelerated computing",
    "gpuNum": 1,
    "memoryGiB": 64,
    "name": "ml.g5.4xlarge",
    "vcpuNum": 16
   },
   {
    "_defaultOrder": 49,
    "_isFastLaunch": false,
    "category": "Accelerated computing",
    "gpuNum": 1,
    "memoryGiB": 128,
    "name": "ml.g5.8xlarge",
    "vcpuNum": 32
   },
   {
    "_defaultOrder": 50,
    "_isFastLaunch": false,
    "category": "Accelerated computing",
    "gpuNum": 1,
    "memoryGiB": 256,
    "name": "ml.g5.16xlarge",
    "vcpuNum": 64
   },
   {
    "_defaultOrder": 51,
    "_isFastLaunch": false,
    "category": "Accelerated computing",
    "gpuNum": 4,
    "memoryGiB": 192,
    "name": "ml.g5.12xlarge",
    "vcpuNum": 48
   },
   {
    "_defaultOrder": 52,
    "_isFastLaunch": false,
    "category": "Accelerated computing",
    "gpuNum": 4,
    "memoryGiB": 384,
    "name": "ml.g5.24xlarge",
    "vcpuNum": 96
   },
   {
    "_defaultOrder": 53,
    "_isFastLaunch": false,
    "category": "Accelerated computing",
    "gpuNum": 8,
    "memoryGiB": 768,
    "name": "ml.g5.48xlarge",
    "vcpuNum": 192
   }
  ],
  "instance_type": "ml.t3.medium",
  "kernelspec": {
   "display_name": "Python 3 (Data Science)",
   "language": "python",
   "name": "python3__SAGEMAKER_INTERNAL__arn:aws:sagemaker:eu-west-3:615547856133:image/datascience-1.0"
  },
  "language_info": {
   "codemirror_mode": {
    "name": "ipython",
    "version": 3
   },
   "file_extension": ".py",
   "mimetype": "text/x-python",
   "name": "python",
   "nbconvert_exporter": "python",
   "pygments_lexer": "ipython3",
   "version": "3.7.10"
  }
 },
 "nbformat": 4,
 "nbformat_minor": 5
}
